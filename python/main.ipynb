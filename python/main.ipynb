{
 "cells": [
  {
   "cell_type": "code",
   "execution_count": 2,
   "metadata": {
    "collapsed": true
   },
   "outputs": [
    {
     "data": {
      "text/plain": "        RowNumber AnimalName AnimalGender  AnimalBirthMonth  \\\n0               1      PAIGE            F              2014   \n1               2       YOGI            M              2010   \n2               3        ALI            M              2014   \n3               4      QUEEN            F              2013   \n4               5       LOLA            F              2009   \n...           ...        ...          ...               ...   \n493067     147341    UNKNOWN            F              2020   \n493068     147342    UNKNOWN            F              2020   \n493069     147343    UNKNOWN            M              2020   \n493070     147344    UNKNOWN            M              2020   \n493071     147345    UNKNOWN            F              2020   \n\n                                   BreedName  Borough  ZipCode  \\\n0       American Pit Bull Mix / Pit Bull Mix      NaN    10035   \n1                                      Boxer      NaN    10465   \n2                                    Basenji      NaN    10013   \n3                           Akita Crossbreed      NaN    10013   \n4                                    Maltese      NaN    10028   \n...                                      ...      ...      ...   \n493067                     Poodle Crossbreed      NaN    10025   \n493068             Coonhound, Treeing Walker      NaN    11201   \n493069                             Dachshund      NaN    11206   \n493070                          Goldendoodle      NaN    10019   \n493071                            Pomeranian      NaN    11212   \n\n       LicenseIssuedDate LicenseExpiredDate  Extract Year  Unique Dog ID  \n0             09/12/2014         09/12/2017        2016.0            NaN  \n1             09/12/2014         10/02/2017        2016.0            NaN  \n2             09/12/2014         09/12/2019        2016.0            NaN  \n3             09/12/2014         09/12/2017        2016.0            NaN  \n4             09/12/2014         10/09/2017        2016.0            NaN  \n...                  ...                ...           ...            ...  \n493067        03/17/2021         03/17/2022           NaN            NaN  \n493068        03/17/2021         03/17/2022           NaN            NaN  \n493069        03/17/2021         03/17/2022           NaN            NaN  \n493070        03/17/2021         03/17/2022           NaN            NaN  \n493071        03/17/2021         03/17/2022           NaN            NaN  \n\n[493072 rows x 11 columns]",
      "text/html": "<div>\n<style scoped>\n    .dataframe tbody tr th:only-of-type {\n        vertical-align: middle;\n    }\n\n    .dataframe tbody tr th {\n        vertical-align: top;\n    }\n\n    .dataframe thead th {\n        text-align: right;\n    }\n</style>\n<table border=\"1\" class=\"dataframe\">\n  <thead>\n    <tr style=\"text-align: right;\">\n      <th></th>\n      <th>RowNumber</th>\n      <th>AnimalName</th>\n      <th>AnimalGender</th>\n      <th>AnimalBirthMonth</th>\n      <th>BreedName</th>\n      <th>Borough</th>\n      <th>ZipCode</th>\n      <th>LicenseIssuedDate</th>\n      <th>LicenseExpiredDate</th>\n      <th>Extract Year</th>\n      <th>Unique Dog ID</th>\n    </tr>\n  </thead>\n  <tbody>\n    <tr>\n      <th>0</th>\n      <td>1</td>\n      <td>PAIGE</td>\n      <td>F</td>\n      <td>2014</td>\n      <td>American Pit Bull Mix / Pit Bull Mix</td>\n      <td>NaN</td>\n      <td>10035</td>\n      <td>09/12/2014</td>\n      <td>09/12/2017</td>\n      <td>2016.0</td>\n      <td>NaN</td>\n    </tr>\n    <tr>\n      <th>1</th>\n      <td>2</td>\n      <td>YOGI</td>\n      <td>M</td>\n      <td>2010</td>\n      <td>Boxer</td>\n      <td>NaN</td>\n      <td>10465</td>\n      <td>09/12/2014</td>\n      <td>10/02/2017</td>\n      <td>2016.0</td>\n      <td>NaN</td>\n    </tr>\n    <tr>\n      <th>2</th>\n      <td>3</td>\n      <td>ALI</td>\n      <td>M</td>\n      <td>2014</td>\n      <td>Basenji</td>\n      <td>NaN</td>\n      <td>10013</td>\n      <td>09/12/2014</td>\n      <td>09/12/2019</td>\n      <td>2016.0</td>\n      <td>NaN</td>\n    </tr>\n    <tr>\n      <th>3</th>\n      <td>4</td>\n      <td>QUEEN</td>\n      <td>F</td>\n      <td>2013</td>\n      <td>Akita Crossbreed</td>\n      <td>NaN</td>\n      <td>10013</td>\n      <td>09/12/2014</td>\n      <td>09/12/2017</td>\n      <td>2016.0</td>\n      <td>NaN</td>\n    </tr>\n    <tr>\n      <th>4</th>\n      <td>5</td>\n      <td>LOLA</td>\n      <td>F</td>\n      <td>2009</td>\n      <td>Maltese</td>\n      <td>NaN</td>\n      <td>10028</td>\n      <td>09/12/2014</td>\n      <td>10/09/2017</td>\n      <td>2016.0</td>\n      <td>NaN</td>\n    </tr>\n    <tr>\n      <th>...</th>\n      <td>...</td>\n      <td>...</td>\n      <td>...</td>\n      <td>...</td>\n      <td>...</td>\n      <td>...</td>\n      <td>...</td>\n      <td>...</td>\n      <td>...</td>\n      <td>...</td>\n      <td>...</td>\n    </tr>\n    <tr>\n      <th>493067</th>\n      <td>147341</td>\n      <td>UNKNOWN</td>\n      <td>F</td>\n      <td>2020</td>\n      <td>Poodle Crossbreed</td>\n      <td>NaN</td>\n      <td>10025</td>\n      <td>03/17/2021</td>\n      <td>03/17/2022</td>\n      <td>NaN</td>\n      <td>NaN</td>\n    </tr>\n    <tr>\n      <th>493068</th>\n      <td>147342</td>\n      <td>UNKNOWN</td>\n      <td>F</td>\n      <td>2020</td>\n      <td>Coonhound, Treeing Walker</td>\n      <td>NaN</td>\n      <td>11201</td>\n      <td>03/17/2021</td>\n      <td>03/17/2022</td>\n      <td>NaN</td>\n      <td>NaN</td>\n    </tr>\n    <tr>\n      <th>493069</th>\n      <td>147343</td>\n      <td>UNKNOWN</td>\n      <td>M</td>\n      <td>2020</td>\n      <td>Dachshund</td>\n      <td>NaN</td>\n      <td>11206</td>\n      <td>03/17/2021</td>\n      <td>03/17/2022</td>\n      <td>NaN</td>\n      <td>NaN</td>\n    </tr>\n    <tr>\n      <th>493070</th>\n      <td>147344</td>\n      <td>UNKNOWN</td>\n      <td>M</td>\n      <td>2020</td>\n      <td>Goldendoodle</td>\n      <td>NaN</td>\n      <td>10019</td>\n      <td>03/17/2021</td>\n      <td>03/17/2022</td>\n      <td>NaN</td>\n      <td>NaN</td>\n    </tr>\n    <tr>\n      <th>493071</th>\n      <td>147345</td>\n      <td>UNKNOWN</td>\n      <td>F</td>\n      <td>2020</td>\n      <td>Pomeranian</td>\n      <td>NaN</td>\n      <td>11212</td>\n      <td>03/17/2021</td>\n      <td>03/17/2022</td>\n      <td>NaN</td>\n      <td>NaN</td>\n    </tr>\n  </tbody>\n</table>\n<p>493072 rows × 11 columns</p>\n</div>"
     },
     "execution_count": 2,
     "metadata": {},
     "output_type": "execute_result"
    }
   ],
   "source": [
    "import os\n",
    "import pandas as pd\n",
    "import matplotlib.pyplot as plt\n",
    "\n",
    "csv_path = \"../resources/NYC_Dog_Licensing_Dataset.csv\"\n",
    "data = pd.read_csv(csv_path)\n",
    "data"
   ]
  },
  {
   "cell_type": "code",
   "execution_count": null,
   "outputs": [],
   "source": [],
   "metadata": {
    "collapsed": false,
    "pycharm": {
     "name": "#%%\n"
    }
   }
  }
 ],
 "metadata": {
  "kernelspec": {
   "display_name": "Python 3",
   "language": "python",
   "name": "python3"
  },
  "language_info": {
   "codemirror_mode": {
    "name": "ipython",
    "version": 2
   },
   "file_extension": ".py",
   "mimetype": "text/x-python",
   "name": "python",
   "nbconvert_exporter": "python",
   "pygments_lexer": "ipython2",
   "version": "2.7.6"
  }
 },
 "nbformat": 4,
 "nbformat_minor": 0
}